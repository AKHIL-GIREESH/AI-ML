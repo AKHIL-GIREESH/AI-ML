{
 "cells": [
  {
   "cell_type": "code",
   "execution_count": 5,
   "id": "bba73f99-0e4c-4a45-977f-132dee5cec48",
   "metadata": {},
   "outputs": [],
   "source": [
    "import matplotlib.pyplot as plt\n",
    "import numpy as np\n",
    "import pandas as pd"
   ]
  },
  {
   "cell_type": "code",
   "execution_count": 11,
   "id": "4b0ffdc0-812b-42df-bffb-bdea102b5c9c",
   "metadata": {},
   "outputs": [],
   "source": [
    "data = {\n",
    "    \"Feature1\": [\n",
    "        2.1, 2.5, 1.9, 2.3, 2.4, 1.8, 2.2, 2.0, 1.7, 2.6,\n",
    "        8.2, 7.8, 8.0, 7.9, 8.3, 7.7, 8.1, 8.4, 7.6, 8.5,\n",
    "        5.1, 5.3, 4.8, 5.0, 5.2, 4.9, 5.4, 5.5, 4.7, 5.6\n",
    "    ],\n",
    "    \"Feature2\": [\n",
    "        3.2, 3.0, 3.1, 2.9, 3.3, 3.4, 3.1, 2.8, 3.0, 3.2,\n",
    "        7.1, 6.9, 7.3, 7.0, 7.4, 7.2, 6.8, 7.5, 6.7, 7.6,\n",
    "        2.2, 2.5, 2.1, 2.3, 2.4, 2.0, 2.6, 2.7, 1.9, 2.8\n",
    "    ],\n",
    "}"
   ]
  },
  {
   "cell_type": "code",
   "execution_count": 12,
   "id": "4422a246-44e7-4cc9-9e23-a4404f99c53b",
   "metadata": {},
   "outputs": [
    {
     "data": {
      "image/png": "[encoded data removed]",
      "text/plain": [
       "<Figure size 640x480 with 1 Axes>"
      ]
     },
     "metadata": {},
     "output_type": "display_data"
    }
   ],
   "source": [
    "plt.scatter(data['Feature1'], data['Feature2'], color='blue', marker='o', label='Data Points')\n",
    "plt.xlabel(\"Feature1\")\n",
    "plt.ylabel(\"Feature2\")\n",
    "plt.title(\"Scatter Plot of Dataset\")\n",
    "plt.legend()\n",
    "plt.grid(True)\n",
    "plt.show()"
   ]
  },
  {
   "cell_type": "code",
   "execution_count": 13,
   "id": "efb71650-2f53-4b2f-b89d-ba140d0ada0f",
   "metadata": {},
   "outputs": [
    {
     "data": {
      "text/plain": [
       "array([[2.1, 3.2],\n",
       "       [2.5, 3. ],\n",
       "       [1.9, 3.1],\n",
       "       [2.3, 2.9],\n",
       "       [2.4, 3.3],\n",
       "       [1.8, 3.4],\n",
       "       [2.2, 3.1],\n",
       "       [2. , 2.8],\n",
       "       [1.7, 3. ],\n",
       "       [2.6, 3.2],\n",
       "       [8.2, 7.1],\n",
       "       [7.8, 6.9],\n",
       "       [8. , 7.3],\n",
       "       [7.9, 7. ],\n",
       "       [8.3, 7.4],\n",
       "       [7.7, 7.2],\n",
       "       [8.1, 6.8],\n",
       "       [8.4, 7.5],\n",
       "       [7.6, 6.7],\n",
       "       [8.5, 7.6],\n",
       "       [5.1, 2.2],\n",
       "       [5.3, 2.5],\n",
       "       [4.8, 2.1],\n",
       "       [5. , 2.3],\n",
       "       [5.2, 2.4],\n",
       "       [4.9, 2. ],\n",
       "       [5.4, 2.6],\n",
       "       [5.5, 2.7],\n",
       "       [4.7, 1.9],\n",
       "       [5.6, 2.8]])"
      ]
     },
     "execution_count": 13,
     "metadata": {},
     "output_type": "execute_result"
    }
   ],
   "source": [
    "dataset = np.array([\n",
    "    [2.1, 3.2], [2.5, 3.0], [1.9, 3.1], [2.3, 2.9], [2.4, 3.3], [1.8, 3.4], \n",
    "    [2.2, 3.1], [2.0, 2.8], [1.7, 3.0], [2.6, 3.2], [8.2, 7.1], [7.8, 6.9], \n",
    "    [8.0, 7.3], [7.9, 7.0], [8.3, 7.4], [7.7, 7.2], [8.1, 6.8], [8.4, 7.5], \n",
    "    [7.6, 6.7], [8.5, 7.6], [5.1, 2.2], [5.3, 2.5], [4.8, 2.1], [5.0, 2.3], \n",
    "    [5.2, 2.4], [4.9, 2.0], [5.4, 2.6], [5.5, 2.7], [4.7, 1.9], [5.6, 2.8]\n",
    "])\n",
    "\n",
    "dataset"
   ]
  },
  {
   "cell_type": "code",
   "execution_count": 26,
   "id": "27fd23bf-f0da-402e-b7f9-9d52d62c0d54",
   "metadata": {},
   "outputs": [],
   "source": [
    "def findClosestCentroids(centroids,dataset):\n",
    "    idx = np.zeros(dataset.shape[0], dtype=int)\n",
    "    for i in range(dataset.shape[0]):\n",
    "        minval = np.sum((centroids[0]-dataset[i])**2)\n",
    "        for j in range(1,centroids.shape[0]):\n",
    "            val = np.sum((centroids[j]-dataset[i])**2)\n",
    "            if minval > val:\n",
    "                minval = val\n",
    "                idx[i] = j\n",
    "    return idx"
   ]
  },
  {
   "cell_type": "code",
   "execution_count": 29,
   "id": "4687167a-1d74-40f1-a7fd-b852ec470f96",
   "metadata": {},
   "outputs": [],
   "source": [
    "def computeCentroids(idx,dataset,K):\n",
    "    m,n = dataset.shape\n",
    "    centroids = np.zeros(K,n)\n",
    "    for i in range(K):\n",
    "        s = np.zeros(n)\n",
    "        count = 0\n",
    "        for j in idx:\n",
    "            if i == j:\n",
    "                sum += dataset[j]\n",
    "                count+=1\n",
    "        if count > 0:\n",
    "            centroids[i] = s/count\n",
    "    return centroids"
   ]
  },
  {
   "cell_type": "code",
   "execution_count": 22,
   "id": "d778e081",
   "metadata": {},
   "outputs": [],
   "source": [
    "def kmeans(idx,dataset):\n",
    "    \n",
    "    return centroids "
   ]
  },
  {
   "cell_type": "code",
   "execution_count": 31,
   "id": "06f07e09-9d61-4852-b8b9-512b3ce47212",
   "metadata": {},
   "outputs": [
    {
     "name": "stdout",
     "output_type": "stream",
     "text": [
      "[0 0 0 0 0 0 0 0 0 0 1 1 1 1 1 1 1 1 1 1 2 2 2 2 2 2 2 2 2 2]\n",
      "Old centroids :  [[3. 2.]\n",
      " [7. 7.]\n",
      " [4. 2.]]\n"
     ]
    },
    {
     "ename": "TypeError",
     "evalue": "Cannot interpret '2' as a data type",
     "output_type": "error",
     "traceback": [
      "\u001b[0;31m---------------------------------------------------------------------------\u001b[0m",
      "\u001b[0;31mTypeError\u001b[0m                                 Traceback (most recent call last)",
      "Cell \u001b[0;32mIn[31], line 5\u001b[0m\n\u001b[1;32m      3\u001b[0m \u001b[38;5;28mprint\u001b[39m(idx)\n\u001b[1;32m      4\u001b[0m \u001b[38;5;28mprint\u001b[39m(\u001b[38;5;124m\"\u001b[39m\u001b[38;5;124mOld centroids : \u001b[39m\u001b[38;5;124m\"\u001b[39m,centroids)\n\u001b[0;32m----> 5\u001b[0m centroids \u001b[38;5;241m=\u001b[39m \u001b[43mcomputeCentroids\u001b[49m\u001b[43m(\u001b[49m\u001b[43midx\u001b[49m\u001b[43m,\u001b[49m\u001b[43mdataset\u001b[49m\u001b[43m,\u001b[49m\u001b[38;5;241;43m3\u001b[39;49m\u001b[43m)\u001b[49m\n\u001b[1;32m      6\u001b[0m \u001b[38;5;28mprint\u001b[39m(\u001b[38;5;124m\"\u001b[39m\u001b[38;5;124mNew centroids : \u001b[39m\u001b[38;5;124m\"\u001b[39m,centroids)\n",
      "Cell \u001b[0;32mIn[29], line 3\u001b[0m, in \u001b[0;36mcomputeCentroids\u001b[0;34m(idx, dataset, K)\u001b[0m\n\u001b[1;32m      1\u001b[0m \u001b[38;5;28;01mdef\u001b[39;00m \u001b[38;5;21mcomputeCentroids\u001b[39m(idx,dataset,K):\n\u001b[1;32m      2\u001b[0m     m,n \u001b[38;5;241m=\u001b[39m dataset\u001b[38;5;241m.\u001b[39mshape\n\u001b[0;32m----> 3\u001b[0m     centroids \u001b[38;5;241m=\u001b[39m \u001b[43mnp\u001b[49m\u001b[38;5;241;43m.\u001b[39;49m\u001b[43mzeros\u001b[49m\u001b[43m(\u001b[49m\u001b[43mK\u001b[49m\u001b[43m,\u001b[49m\u001b[43mn\u001b[49m\u001b[43m)\u001b[49m\n\u001b[1;32m      4\u001b[0m     \u001b[38;5;28;01mfor\u001b[39;00m i \u001b[38;5;129;01min\u001b[39;00m \u001b[38;5;28mrange\u001b[39m(K):\n\u001b[1;32m      5\u001b[0m         s \u001b[38;5;241m=\u001b[39m np\u001b[38;5;241m.\u001b[39mzeros(n)\n",
      "\u001b[0;31mTypeError\u001b[0m: Cannot interpret '2' as a data type"
     ]
    }
   ],
   "source": [
    "centroids = np.array([[3, 2],[7.0, 7.0 ],[4.0, 2.0]])\n",
    "idx = findClosestCentroids(centroids,dataset)\n",
    "print(idx)\n",
    "print(\"Old centroids : \",centroids)\n",
    "centroids = computeCentroids(idx,dataset,3)\n",
    "print(\"New centroids : \",centroids)"
   ]
  },
  {
   "cell_type": "code",
   "execution_count": null,
   "id": "8a374ebd-951e-48d0-bc89-f56a0a3920ca",
   "metadata": {},
   "outputs": [],
   "source": []
  }
 ],
 "metadata": {
  "kernelspec": {
   "display_name": "Python 3 (ipykernel)",
   "language": "python",
   "name": "python3"
  },
  "language_info": {
   "codemirror_mode": {
    "name": "ipython",
    "version": 3
   },
   "file_extension": ".py",
   "mimetype": "text/x-python",
   "name": "python",
   "nbconvert_exporter": "python",
   "pygments_lexer": "ipython3",
   "version": "3.12.0"
  }
 },
 "nbformat": 4,
 "nbformat_minor": 5
}
