{
 "cells": [
  {
   "cell_type": "code",
   "execution_count": 5,
   "id": "62f9d1c6-a9e9-4b8a-9f15-295a1cf3b0f8",
   "metadata": {},
   "outputs": [],
   "source": [
    "import sympy as simp"
   ]
  },
  {
   "cell_type": "code",
   "execution_count": 6,
   "id": "e7063ad6-114b-4cbb-9d22-c0bdd873810a",
   "metadata": {},
   "outputs": [],
   "source": [
    "J,w = simp.symbols('J,w')"
   ]
  },
  {
   "cell_type": "code",
   "execution_count": 15,
   "id": "8794e6ce-ec43-4b74-8208-fad5a87bf03b",
   "metadata": {},
   "outputs": [
    {
     "data": {
      "text/latex": [
       "$\\displaystyle \\frac{1}{w}$"
      ],
      "text/plain": [
       "1/w"
      ]
     },
     "execution_count": 15,
     "metadata": {},
     "output_type": "execute_result"
    }
   ],
   "source": [
    "J = 1/w\n",
    "J"
   ]
  },
  {
   "cell_type": "code",
   "execution_count": 16,
   "id": "8e7fecfd-0895-4e8b-8203-c04c78d8d160",
   "metadata": {},
   "outputs": [
    {
     "data": {
      "text/latex": [
       "$\\displaystyle - \\frac{1}{w^{2}}$"
      ],
      "text/plain": [
       "-1/w**2"
      ]
     },
     "execution_count": 16,
     "metadata": {},
     "output_type": "execute_result"
    }
   ],
   "source": [
    "dJ_dw = simp.diff(J,w)\n",
    "dJ_dw"
   ]
  },
  {
   "cell_type": "code",
   "execution_count": 17,
   "id": "bb53ee27-cc33-40a7-99f3-d1588e7f5dd9",
   "metadata": {},
   "outputs": [
    {
     "data": {
      "text/latex": [
       "$\\displaystyle - \\frac{1}{4}$"
      ],
      "text/plain": [
       "-1/4"
      ]
     },
     "execution_count": 17,
     "metadata": {},
     "output_type": "execute_result"
    }
   ],
   "source": [
    "dJ_dw.subs([(w,2)])"
   ]
  },
  {
   "cell_type": "code",
   "execution_count": null,
   "id": "fab51dbc-c028-45ee-ad87-be4683d7e1da",
   "metadata": {},
   "outputs": [],
   "source": []
  }
 ],
 "metadata": {
  "kernelspec": {
   "display_name": "Python 3 (ipykernel)",
   "language": "python",
   "name": "python3"
  },
  "language_info": {
   "codemirror_mode": {
    "name": "ipython",
    "version": 3
   },
   "file_extension": ".py",
   "mimetype": "text/x-python",
   "name": "python",
   "nbconvert_exporter": "python",
   "pygments_lexer": "ipython3",
   "version": "3.12.0"
  }
 },
 "nbformat": 4,
 "nbformat_minor": 5
}
